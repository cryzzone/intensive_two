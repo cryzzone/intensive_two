{
  "nbformat": 4,
  "nbformat_minor": 0,
  "metadata": {
    "colab": {
      "provenance": []
    },
    "kernelspec": {
      "name": "python3",
      "display_name": "Python 3"
    },
    "language_info": {
      "name": "python"
    }
  },
  "cells": [
    {
      "cell_type": "code",
      "execution_count": null,
      "metadata": {
        "id": "ed007pXQF5QY"
      },
      "outputs": [],
      "source": [
        "import pandas as pd\n",
        "import numpy as np\n",
        "from sklearn.impute import SimpleImputer\n",
        "from sklearn.preprocessing import OneHotEncoder, StandardScaler\n",
        "from sklearn.model_selection import train_test_split\n",
        "from imblearn.over_sampling import SMOTE"
      ]
    },
    {
      "cell_type": "code",
      "source": [
        "train = pd.read_csv('train.csv')\n",
        "test = pd.read_csv('valid.csv')"
      ],
      "metadata": {
        "colab": {
          "base_uri": "https://localhost:8080/"
        },
        "id": "yz-nghQ0GPSo",
        "outputId": "76d2e81a-0bf7-4eb2-8035-0c2b0ddfd493"
      },
      "execution_count": null,
      "outputs": [
        {
          "output_type": "stream",
          "name": "stderr",
          "text": [
            "<ipython-input-2-80eeb0dda28d>:1: DtypeWarning: Columns (51,52,53,54,55,56,57,58,59,60,61,62,63,64,65,66,87,88,89,90,91,92,93,94,95,96,97,98,99,100,101,102,131,132,133,135,136,139,140,141,142,143,144,145,146,147,148,149,151,152,155,156,157,158,159,160,161,163,164,165,167,168,169,171,172,173,174,175,176,177,178,183,184,185,186,187,188,189,190,191,192,193,194,195,196,197,198,203,204,205,206,207,208,209,210,211,212,213,214,215,216,217,218,223,224,227,239,240,241,242,243,244,245,246,459,460,461,467,468,469,515,516,523,524,531,532,539,540,547,548,555,556,563,564,565,567,571,572,573,575,579,580,581,582,583,587,588,595,596,603,604,611,612,613,615,795,796,797,799,1031,1032,1033,1034,1035,1036,1037,1039,1040,1041,1042,1043,1044,1045,1047,1048,1049,1050,1051,1052,1055,1056,1057,1058,1059,1060,1063,1064,1065,1067,1068,1069,1072,1073,1074,1075,1076,1077,1078,1172,1173,1174,1176,1177,1178,1179,1180,1181,1182,1275,1276,1277,1278,1279,1280,1281,1282,1447,1448,1449,1450,1451,1452,1453,1454,1649,1650,1651,1652,1653,1654,1655,1656,2193,2194,2195,2196,2199) have mixed types. Specify dtype option on import or set low_memory=False.\n",
            "  train = pd.read_csv('train.csv')\n",
            "<ipython-input-2-80eeb0dda28d>:2: DtypeWarning: Columns (51,52,53,54,55,56,57,58,59,60,61,62,63,64,65,66,87,88,89,91,95,96,97,99,131,132,133,135,136,140,141,142,144,145,146,147,148,151,152,155,156,157,158,159,160,161,163,164,165,167,168,169,172,173,174,175,176,177,178,183,184,185,186,187,188,189,190,191,192,193,194,195,196,197,198,203,204,207,208,211,212,213,215,216,239,240,241,243,244,245,459,467,563,567,571,575,579,580,583,611,612,795,799,1031,1032,1033,1034,1035,1036,1037,1039,1040,1047,1055,1063,1064,1071,1072,1073,1074,1175,1176,1177,1178,1179,1180,1181,1182,1277,1278,1281,1282,1447,1448,1449,1450,1451,1452,1453,1454,1653,1654,1656,2193,2194,2195,2196,2199) have mixed types. Specify dtype option on import or set low_memory=False.\n",
            "  test = pd.read_csv('valid.csv')\n"
          ]
        }
      ]
    },
    {
      "cell_type": "code",
      "source": [
        "train.info()\n"
      ],
      "metadata": {
        "colab": {
          "base_uri": "https://localhost:8080/"
        },
        "id": "MFNVH-ipGU_U",
        "outputId": "654c5e5e-f489-4594-9d00-4f87c8de4d36"
      },
      "execution_count": null,
      "outputs": [
        {
          "output_type": "stream",
          "name": "stdout",
          "text": [
            "<class 'pandas.core.frame.DataFrame'>\n",
            "RangeIndex: 14456 entries, 0 to 14455\n",
            "Columns: 2666 entries, report_date to col2663\n",
            "dtypes: float64(2316), int64(3), object(347)\n",
            "memory usage: 294.0+ MB\n"
          ]
        }
      ]
    },
    {
      "cell_type": "code",
      "source": [
        "test.info()"
      ],
      "metadata": {
        "colab": {
          "base_uri": "https://localhost:8080/"
        },
        "id": "-1Evhx1GIKss",
        "outputId": "8433f1ad-5f68-4d15-c385-820ca97d151c"
      },
      "execution_count": null,
      "outputs": [
        {
          "output_type": "stream",
          "name": "stdout",
          "text": [
            "<class 'pandas.core.frame.DataFrame'>\n",
            "RangeIndex: 3642 entries, 0 to 3641\n",
            "Columns: 2666 entries, report_date to col2663\n",
            "dtypes: float64(2329), int64(3), object(334)\n",
            "memory usage: 74.1+ MB\n"
          ]
        }
      ]
    },
    {
      "cell_type": "code",
      "source": [
        "print(train.head())\n",
        "print(test.head())"
      ],
      "metadata": {
        "colab": {
          "base_uri": "https://localhost:8080/"
        },
        "id": "m5LriyjhGYK6",
        "outputId": "c516e54f-9393-48b2-8ce4-510827a2e4d6"
      },
      "execution_count": null,
      "outputs": [
        {
          "output_type": "stream",
          "name": "stdout",
          "text": [
            "  report_date  client_id  target  col1  col2  col3  col4  col5  col6  col7  \\\n",
            "0  2022-11-01          1       0   NaN   NaN   NaN   NaN   NaN   NaN   NaN   \n",
            "1  2022-11-01          5       0   NaN   NaN   NaN   NaN   NaN   NaN   NaN   \n",
            "2  2022-05-01          6       0   NaN   NaN   NaN   NaN   NaN   NaN   NaN   \n",
            "3  2022-09-01          7       0   NaN   NaN   NaN   NaN   NaN   NaN   NaN   \n",
            "4  2022-08-01          8       0   NaN   NaN   NaN   NaN   NaN   NaN   NaN   \n",
            "\n",
            "   ...    col2654    col2655    col2656  col2657  col2658  col2659    col2660  \\\n",
            "0  ...        NaN        NaN        NaN      NaN      NaN      NaN        NaN   \n",
            "1  ...  7616803.0  7616803.0  7616803.0      NaN      NaN      NaN  7616803.0   \n",
            "2  ...        NaN        NaN        NaN      NaN      NaN      NaN        NaN   \n",
            "3  ...        NaN        NaN        NaN      NaN      NaN      NaN        NaN   \n",
            "4  ...        NaN        NaN        NaN      NaN      NaN      NaN        NaN   \n",
            "\n",
            "     col2661    col2662   col2663  \n",
            "0        NaN        NaN  0.256261  \n",
            "1  7616803.0  7616803.0  0.256261  \n",
            "2        NaN        NaN  0.256261  \n",
            "3        NaN        NaN  0.258682  \n",
            "4        NaN        NaN  0.254164  \n",
            "\n",
            "[5 rows x 2666 columns]\n",
            "  report_date  client_id  target  col1  col2  col3  col4  col5  col6  col7  \\\n",
            "0  2023-04-01          2       0   NaN   NaN   NaN   NaN   NaN   NaN   NaN   \n",
            "1  2023-05-01          4       0   NaN   NaN   NaN   NaN   NaN   NaN   NaN   \n",
            "2  2023-05-01          9       0   NaN   NaN   NaN   NaN   NaN   NaN   NaN   \n",
            "3  2023-03-01         12       0   NaN   NaN   NaN   NaN   NaN   NaN   NaN   \n",
            "4  2023-03-01         14       0   NaN   NaN   NaN   NaN   NaN   NaN   NaN   \n",
            "\n",
            "   ...     col2654     col2655     col2656  col2657  col2658  col2659  \\\n",
            "0  ...   4941670.0   4941670.0   4941670.0      NaN      NaN      NaN   \n",
            "1  ...  11789500.0  11789500.0  11789500.0      NaN      NaN      NaN   \n",
            "2  ...   7000000.0   7000000.0   7000000.0      NaN      NaN      NaN   \n",
            "3  ...         NaN         NaN         NaN      NaN      NaN      NaN   \n",
            "4  ...         NaN         NaN         NaN      NaN      NaN      NaN   \n",
            "\n",
            "      col2660     col2661     col2662   col2663  \n",
            "0   4941670.0   4941670.0   4941670.0  0.256919  \n",
            "1  11789500.0  11789500.0  11789500.0  0.267221  \n",
            "2   7000000.0   7000000.0   7000000.0  0.257217  \n",
            "3         NaN         NaN         NaN  0.256261  \n",
            "4  10391000.0  10391000.0  10391000.0  0.257348  \n",
            "\n",
            "[5 rows x 2666 columns]\n"
          ]
        }
      ]
    },
    {
      "cell_type": "code",
      "source": [
        "# Проверка пропусков\n",
        "print(train.isnull().sum())\n",
        "print(test.isnull().sum())"
      ],
      "metadata": {
        "colab": {
          "base_uri": "https://localhost:8080/"
        },
        "id": "lckZofnEGbTt",
        "outputId": "6b7f0ec9-0053-42ca-a5e9-cde40b3be53e"
      },
      "execution_count": null,
      "outputs": [
        {
          "output_type": "stream",
          "name": "stdout",
          "text": [
            "report_date        0\n",
            "client_id          0\n",
            "target             0\n",
            "col1           14453\n",
            "col2           14450\n",
            "               ...  \n",
            "col2659        13950\n",
            "col2660         6420\n",
            "col2661         6420\n",
            "col2662         6420\n",
            "col2663            0\n",
            "Length: 2666, dtype: int64\n",
            "report_date       0\n",
            "client_id         0\n",
            "target            0\n",
            "col1           3642\n",
            "col2           3640\n",
            "               ... \n",
            "col2659        3578\n",
            "col2660        1280\n",
            "col2661        1280\n",
            "col2662        1280\n",
            "col2663           0\n",
            "Length: 2666, dtype: int64\n"
          ]
        }
      ]
    },
    {
      "cell_type": "code",
      "source": [
        "# Выделение числовых признаков\n",
        "numeric_columns = train.select_dtypes(include=['number']).columns\n",
        "\n",
        "# Добавляем отсутствующие столбцы в тестовый набор\n",
        "missing_columns = [col for col in numeric_columns if col not in test.columns]\n",
        "for col in missing_columns:\n",
        "    test[col] = np.nan  # Добавляем столбцы с NaN значениями\n",
        "\n",
        "# Удаляем столбцы, полностью состоящие из NaN\n",
        "numeric_columns = [col for col in numeric_columns if train[col].notna().any()]\n",
        "\n",
        "# Импьютер для числовых данных\n",
        "imputer = SimpleImputer(strategy='median')\n",
        "\n",
        "# Преобразование числовых данных\n",
        "train_numeric = pd.DataFrame(imputer.fit_transform(train[numeric_columns]), columns=numeric_columns)\n",
        "test_numeric = pd.DataFrame(imputer.transform(test[numeric_columns]), columns=numeric_columns)\n",
        "\n",
        "# Проверка\n",
        "print(f\"Train numeric shape: {train_numeric.shape}\")\n",
        "print(f\"Test numeric shape: {test_numeric.shape}\")\n"
      ],
      "metadata": {
        "colab": {
          "base_uri": "https://localhost:8080/"
        },
        "id": "mVBNYPHbGexL",
        "outputId": "424514ba-2586-4472-bf90-405ca9f10912"
      },
      "execution_count": null,
      "outputs": [
        {
          "output_type": "stream",
          "name": "stdout",
          "text": [
            "Train numeric shape: (14456, 2238)\n",
            "Test numeric shape: (3642, 2238)\n"
          ]
        }
      ]
    },
    {
      "cell_type": "code",
      "source": [
        "# Подготовка данных для балансировки\n",
        "X = train_numeric.drop(columns=['target'], errors='ignore')\n",
        "y = train['target']\n",
        "\n",
        "# Балансировка классов с использованием SMOTE\n",
        "smote = SMOTE(random_state=42)\n",
        "X_balanced, y_balanced = smote.fit_resample(X, y)\n",
        "\n",
        "print(f\"Распределение классов после SMOTE:\\n{pd.Series(y_balanced).value_counts()}\")\n"
      ],
      "metadata": {
        "colab": {
          "base_uri": "https://localhost:8080/"
        },
        "id": "0MQVRRRvGh8d",
        "outputId": "9ec2ee69-cc56-4878-e372-22bb78f2903a"
      },
      "execution_count": null,
      "outputs": [
        {
          "output_type": "stream",
          "name": "stdout",
          "text": [
            "Распределение классов после SMOTE:\n",
            "target\n",
            "0    14020\n",
            "1    14020\n",
            "Name: count, dtype: int64\n"
          ]
        }
      ]
    },
    {
      "cell_type": "code",
      "source": [
        "# Выделение категориальных признаков\n",
        "categorical_columns = train.select_dtypes(include=['object']).columns\n",
        "\n",
        "# Заполнение пропусков в категориальных данных\n",
        "from sklearn.impute import SimpleImputer\n",
        "imputer_cat = SimpleImputer(strategy='most_frequent')  # Заполнение наиболее частыми значениями\n",
        "train[categorical_columns] = imputer_cat.fit_transform(train[categorical_columns])\n",
        "test[categorical_columns] = imputer_cat.transform(test[categorical_columns])\n",
        "\n",
        "# Преобразование категориальных данных в строки\n",
        "train[categorical_columns] = train[categorical_columns].astype(str)\n",
        "test[categorical_columns] = test[categorical_columns].astype(str)\n",
        "\n",
        "# One-Hot Encoding для категориальных признаков\n",
        "encoder = OneHotEncoder(sparse_output=False, handle_unknown='ignore')\n",
        "\n",
        "# Кодирование категориальных признаков\n",
        "X_encoded = encoder.fit_transform(train[categorical_columns])\n",
        "test_encoded = encoder.transform(test[categorical_columns])\n",
        "\n",
        "print(f\"Train encoded shape: {X_encoded.shape}\")\n",
        "print(f\"Test encoded shape: {test_encoded.shape}\")\n",
        "\n"
      ],
      "metadata": {
        "colab": {
          "base_uri": "https://localhost:8080/"
        },
        "id": "I0bBinbpGkvw",
        "outputId": "c5f5e3b4-950d-4985-a3bb-da49f0724ca8"
      },
      "execution_count": null,
      "outputs": [
        {
          "output_type": "stream",
          "name": "stdout",
          "text": [
            "Train encoded shape: (14456, 14596)\n",
            "Test encoded shape: (3642, 14596)\n"
          ]
        }
      ]
    },
    {
      "cell_type": "code",
      "source": [
        "# Выравниваем столбцы тестовых данных под обучающие\n",
        "test_numeric = test_numeric[X_balanced.columns]\n",
        "\n",
        "# Масштабирование числовых признаков\n",
        "scaler = StandardScaler()\n",
        "\n",
        "# Применяем масштабирование\n",
        "X_train_scaled = scaler.fit_transform(X_balanced)\n",
        "X_test_scaled = scaler.transform(test_numeric)\n",
        "\n",
        "print(f\"Train scaled shape: {X_train_scaled.shape}\")\n",
        "print(f\"Test scaled shape: {X_test_scaled.shape}\")\n"
      ],
      "metadata": {
        "colab": {
          "base_uri": "https://localhost:8080/"
        },
        "id": "e2ik7JbNGn0E",
        "outputId": "b5286002-4265-430d-b08a-a77223628b0f"
      },
      "execution_count": null,
      "outputs": [
        {
          "output_type": "stream",
          "name": "stdout",
          "text": [
            "Train scaled shape: (28040, 2237)\n",
            "Test scaled shape: (3642, 2237)\n"
          ]
        }
      ]
    },
    {
      "cell_type": "code",
      "source": [
        "# Пример добавления временных признаков\n",
        "train['report_date'] = pd.to_datetime(train['report_date'])\n",
        "test['report_date'] = pd.to_datetime(test['report_date'])\n",
        "\n",
        "train['month'] = train['report_date'].dt.month\n",
        "train['quarter'] = train['report_date'].dt.quarter\n",
        "\n",
        "test['month'] = test['report_date'].dt.month\n",
        "test['quarter'] = test['report_date'].dt.quarter\n",
        "\n",
        "# Пример агрегатов\n",
        "train['mean_value'] = train_numeric.mean(axis=1)\n",
        "test['mean_value'] = test_numeric.mean(axis=1)\n"
      ],
      "metadata": {
        "id": "NsVKXjJTGp0s"
      },
      "execution_count": null,
      "outputs": []
    },
    {
      "cell_type": "code",
      "source": [
        "# Финальное разделение данных\n",
        "X_final = train_numeric.drop(columns=['target'], errors='ignore')\n",
        "y_final = train['target']\n",
        "\n",
        "X_train_final, X_val_final, y_train_final, y_val_final = train_test_split(\n",
        "    X_final, y_final, test_size=0.2, random_state=42, stratify=y_final\n",
        ")\n",
        "\n",
        "print(\"Обучающая выборка готова к моделированию!\")\n",
        "print(f\"Train shape: {X_train_final.shape}, Validation shape: {X_val_final.shape}\")\n"
      ],
      "metadata": {
        "colab": {
          "base_uri": "https://localhost:8080/"
        },
        "id": "rynkadKgGulw",
        "outputId": "7c0a031c-7dbf-4ea2-d674-42d4c7f1ba81"
      },
      "execution_count": null,
      "outputs": [
        {
          "output_type": "stream",
          "name": "stdout",
          "text": [
            "Обучающая выборка готова к моделированию!\n",
            "Train shape: (11564, 2237), Validation shape: (2892, 2237)\n"
          ]
        }
      ]
    },
    {
      "cell_type": "code",
      "source": [
        "from sklearn.ensemble import RandomForestClassifier\n",
        "import matplotlib.pyplot as plt\n",
        "\n",
        "# Обучение базовой модели RandomForest\n",
        "model = RandomForestClassifier(random_state=42)\n",
        "model.fit(X_train_final, y_train_final)\n",
        "\n",
        "# Оценка важности признаков\n",
        "feature_importances = model.feature_importances_\n",
        "feature_names = X_train_final.columns\n",
        "\n",
        "# Визуализация важности признаков\n",
        "plt.figure(figsize=(10, 8))\n",
        "plt.barh(feature_names, feature_importances)\n",
        "plt.xlabel(\"Feature Importance\")\n",
        "plt.ylabel(\"Features\")\n",
        "plt.title(\"Feature Importance from Random Forest\")\n",
        "plt.show()\n"
      ],
      "metadata": {
        "colab": {
          "base_uri": "https://localhost:8080/",
          "height": 718
        },
        "id": "9gFbEgvAGxeD",
        "outputId": "e7fd0251-f51e-42cf-d641-622760c3480a"
      },
      "execution_count": null,
      "outputs": [
        {
          "output_type": "display_data",
          "data": {
            "text/plain": [
              "<Figure size 1000x800 with 1 Axes>"
            ],
            "image/png": "[encoded data removed]"
          },
          "metadata": {}
        }
      ]
    },
    {
      "cell_type": "code",
      "source": [
        "from sklearn.model_selection import cross_val_score\n",
        "from sklearn.linear_model import LogisticRegression\n",
        "from sklearn.ensemble import GradientBoostingClassifier\n",
        "\n",
        "# Логистическая регрессия\n",
        "log_reg = LogisticRegression(max_iter=1000, random_state=42)\n",
        "log_reg_scores = cross_val_score(log_reg, X_train_final, y_train_final, cv=5, scoring='roc_auc')\n",
        "print(f\"Logistic Regression ROC-AUC: {log_reg_scores.mean():.4f}\")\n",
        "\n",
        "# Градиентный бустинг\n",
        "gbc = GradientBoostingClassifier(random_state=42)\n",
        "gbc_scores = cross_val_score(gbc, X_train_final, y_train_final, cv=5, scoring='roc_auc')\n",
        "print(f\"Gradient Boosting ROC-AUC: {gbc_scores.mean():.4f}\")\n",
        "\n",
        "# Случайный лес\n",
        "rf_scores = cross_val_score(model, X_train_final, y_train_final, cv=5, scoring='roc_auc')\n",
        "print(f\"Random Forest ROC-AUC: {rf_scores.mean():.4f}\")\n"
      ],
      "metadata": {
        "colab": {
          "base_uri": "https://localhost:8080/"
        },
        "id": "J8jsW0yIJNqt",
        "outputId": "ab2f3d42-f058-411b-ce30-a3bbd8aef5af"
      },
      "execution_count": null,
      "outputs": [
        {
          "output_type": "stream",
          "name": "stderr",
          "text": [
            "/usr/local/lib/python3.10/dist-packages/sklearn/linear_model/_logistic.py:469: ConvergenceWarning: lbfgs failed to converge (status=1):\n",
            "STOP: TOTAL NO. of ITERATIONS REACHED LIMIT.\n",
            "\n",
            "Increase the number of iterations (max_iter) or scale the data as shown in:\n",
            "    https://scikit-learn.org/stable/modules/preprocessing.html\n",
            "Please also refer to the documentation for alternative solver options:\n",
            "    https://scikit-learn.org/stable/modules/linear_model.html#logistic-regression\n",
            "  n_iter_i = _check_optimize_result(\n",
            "/usr/local/lib/python3.10/dist-packages/sklearn/linear_model/_logistic.py:469: ConvergenceWarning: lbfgs failed to converge (status=1):\n",
            "STOP: TOTAL NO. of ITERATIONS REACHED LIMIT.\n",
            "\n",
            "Increase the number of iterations (max_iter) or scale the data as shown in:\n",
            "    https://scikit-learn.org/stable/modules/preprocessing.html\n",
            "Please also refer to the documentation for alternative solver options:\n",
            "    https://scikit-learn.org/stable/modules/linear_model.html#logistic-regression\n",
            "  n_iter_i = _check_optimize_result(\n",
            "/usr/local/lib/python3.10/dist-packages/sklearn/linear_model/_logistic.py:469: ConvergenceWarning: lbfgs failed to converge (status=1):\n",
            "STOP: TOTAL NO. of ITERATIONS REACHED LIMIT.\n",
            "\n",
            "Increase the number of iterations (max_iter) or scale the data as shown in:\n",
            "    https://scikit-learn.org/stable/modules/preprocessing.html\n",
            "Please also refer to the documentation for alternative solver options:\n",
            "    https://scikit-learn.org/stable/modules/linear_model.html#logistic-regression\n",
            "  n_iter_i = _check_optimize_result(\n",
            "/usr/local/lib/python3.10/dist-packages/sklearn/linear_model/_logistic.py:469: ConvergenceWarning: lbfgs failed to converge (status=1):\n",
            "STOP: TOTAL NO. of ITERATIONS REACHED LIMIT.\n",
            "\n",
            "Increase the number of iterations (max_iter) or scale the data as shown in:\n",
            "    https://scikit-learn.org/stable/modules/preprocessing.html\n",
            "Please also refer to the documentation for alternative solver options:\n",
            "    https://scikit-learn.org/stable/modules/linear_model.html#logistic-regression\n",
            "  n_iter_i = _check_optimize_result(\n",
            "/usr/local/lib/python3.10/dist-packages/sklearn/linear_model/_logistic.py:469: ConvergenceWarning: lbfgs failed to converge (status=1):\n",
            "STOP: TOTAL NO. of ITERATIONS REACHED LIMIT.\n",
            "\n",
            "Increase the number of iterations (max_iter) or scale the data as shown in:\n",
            "    https://scikit-learn.org/stable/modules/preprocessing.html\n",
            "Please also refer to the documentation for alternative solver options:\n",
            "    https://scikit-learn.org/stable/modules/linear_model.html#logistic-regression\n",
            "  n_iter_i = _check_optimize_result(\n"
          ]
        },
        {
          "output_type": "stream",
          "name": "stdout",
          "text": [
            "Logistic Regression ROC-AUC: 0.6614\n",
            "Gradient Boosting ROC-AUC: 0.8626\n",
            "Random Forest ROC-AUC: 0.9327\n"
          ]
        }
      ]
    },
    {
      "cell_type": "code",
      "source": [
        "from sklearn.model_selection import GridSearchCV\n",
        "\n",
        "# Параметры для GridSearch\n",
        "param_grid = {\n",
        "    'n_estimators': [50, 100, 200],\n",
        "    'max_depth': [3, 5, 10],\n",
        "    'min_samples_split': [2, 5, 10]\n",
        "}\n",
        "\n",
        "grid_search = GridSearchCV(estimator=model, param_grid=param_grid, cv=3, scoring='roc_auc', verbose=1)\n",
        "grid_search.fit(X_train_final, y_train_final)\n",
        "\n",
        "print(f\"Лучшие параметры: {grid_search.best_params_}\")\n",
        "print(f\"ROC-AUC на обучении: {grid_search.best_score_:.4f}\")\n"
      ],
      "metadata": {
        "colab": {
          "base_uri": "https://localhost:8080/"
        },
        "id": "bPPo2WzeG3eH",
        "outputId": "31e23e56-5903-43c5-cf37-7b06cab1f7a0"
      },
      "execution_count": null,
      "outputs": [
        {
          "output_type": "stream",
          "name": "stdout",
          "text": [
            "Fitting 3 folds for each of 27 candidates, totalling 81 fits\n",
            "Лучшие параметры: {'max_depth': 10, 'min_samples_split': 2, 'n_estimators': 100}\n",
            "ROC-AUC на обучении: 0.8562\n"
          ]
        }
      ]
    },
    {
      "cell_type": "code",
      "source": [
        "# Лучшая модель\n",
        "best_model = grid_search.best_estimator_\n",
        "\n",
        "# Предсказания и оценка\n",
        "from sklearn.metrics import roc_auc_score, roc_curve\n",
        "\n",
        "y_val_pred = best_model.predict_proba(X_val_final)[:, 1]\n",
        "roc_auc = roc_auc_score(y_val_final, y_val_pred)\n",
        "print(f\"ROC-AUC на валидации: {roc_auc:.4f}\")\n",
        "\n",
        "# ROC-кривая\n",
        "fpr, tpr, _ = roc_curve(y_val_final, y_val_pred)\n",
        "plt.figure(figsize=(8, 6))\n",
        "plt.plot(fpr, tpr, label=f'ROC-AUC = {roc_auc:.4f}')\n",
        "plt.plot([0, 1], [0, 1], 'k--')\n",
        "plt.xlabel('False Positive Rate')\n",
        "plt.ylabel('True Positive Rate')\n",
        "plt.title('ROC Curve')\n",
        "plt.legend()\n",
        "plt.show()\n"
      ],
      "metadata": {
        "colab": {
          "base_uri": "https://localhost:8080/",
          "height": 581
        },
        "id": "KhgAVkGfJ3F0",
        "outputId": "23a85f20-64f1-44b9-cf75-3b9123a58f77"
      },
      "execution_count": null,
      "outputs": [
        {
          "output_type": "stream",
          "name": "stdout",
          "text": [
            "ROC-AUC на валидации: 0.9429\n"
          ]
        },
        {
          "output_type": "display_data",
          "data": {
            "text/plain": [
              "<Figure size 800x600 with 1 Axes>"
            ],
            "image/png": "[encoded data removed]"
          },
          "metadata": {}
        }
      ]
    },
    {
      "cell_type": "code",
      "source": [
        "# Предсказания на тестовых данных\n",
        "test_predictions = best_model.predict_proba(X_test_scaled)[:, 1]\n",
        "\n",
        "# Сохранение результата\n",
        "submission = pd.DataFrame({\n",
        "    'client_id': test['client_id'],\n",
        "    'score': test_predictions\n",
        "})\n",
        "submission.to_csv('submission_file.csv', index=False)\n",
        "\n",
        "print(\"Результат сохранён в submission_file.csv\")\n"
      ],
      "metadata": {
        "colab": {
          "base_uri": "https://localhost:8080/"
        },
        "id": "ih4lLFNYKd0y",
        "outputId": "092cd7dc-6cc6-4620-ffa8-265b2eec05d9"
      },
      "execution_count": null,
      "outputs": [
        {
          "output_type": "stream",
          "name": "stdout",
          "text": [
            "Результат сохранён в submission_file.csv\n"
          ]
        },
        {
          "output_type": "stream",
          "name": "stderr",
          "text": [
            "/usr/local/lib/python3.10/dist-packages/sklearn/base.py:493: UserWarning: X does not have valid feature names, but RandomForestClassifier was fitted with feature names\n",
            "  warnings.warn(\n"
          ]
        }
      ]
    },
    {
      "cell_type": "code",
      "source": [
        "from sklearn.metrics import roc_auc_score, classification_report\n",
        "\n",
        "# Предсказания на валидационном наборе\n",
        "y_val_pred = best_model.predict_proba(X_val_final)[:, 1]\n",
        "\n",
        "# Оценка ROC-AUC\n",
        "roc_auc = roc_auc_score(y_val_final, y_val_pred)\n",
        "print(f\"ROC-AUC на валидации: {roc_auc:.4f}\")\n",
        "\n",
        "# Подробный отчет по классификации\n",
        "threshold = 0.5  # Используем стандартный порог\n",
        "y_val_class = (y_val_pred >= threshold).astype(int)\n",
        "print(classification_report(y_val_final, y_val_class))\n"
      ],
      "metadata": {
        "colab": {
          "base_uri": "https://localhost:8080/"
        },
        "id": "UBFNBpY2Kr6K",
        "outputId": "7362626f-9346-4c68-8b7d-e82dfa056923"
      },
      "execution_count": null,
      "outputs": [
        {
          "output_type": "stream",
          "name": "stdout",
          "text": [
            "ROC-AUC на валидации: 0.9429\n",
            "              precision    recall  f1-score   support\n",
            "\n",
            "           0       0.97      1.00      0.99      2805\n",
            "           1       1.00      0.07      0.13        87\n",
            "\n",
            "    accuracy                           0.97      2892\n",
            "   macro avg       0.99      0.53      0.56      2892\n",
            "weighted avg       0.97      0.97      0.96      2892\n",
            "\n"
          ]
        }
      ]
    },
    {
      "cell_type": "code",
      "source": [
        "# Предсказания на обучающем наборе\n",
        "y_train_pred = best_model.predict_proba(X_train_final)[:, 1]\n",
        "train_roc_auc = roc_auc_score(y_train_final, y_train_pred)\n",
        "\n",
        "print(f\"ROC-AUC на обучении: {train_roc_auc:.4f}\")\n",
        "print(f\"Разница ROC-AUC между обучением и валидацией: {train_roc_auc - roc_auc:.4f}\")\n"
      ],
      "metadata": {
        "colab": {
          "base_uri": "https://localhost:8080/"
        },
        "id": "HZfCan2cKv0_",
        "outputId": "43847222-765e-4d08-e4eb-b0b874c528a6"
      },
      "execution_count": null,
      "outputs": [
        {
          "output_type": "stream",
          "name": "stdout",
          "text": [
            "ROC-AUC на обучении: 0.9922\n",
            "Разница ROC-AUC между обучением и валидацией: 0.0493\n"
          ]
        }
      ]
    },
    {
      "cell_type": "code",
      "source": [
        "# Предсказания для тестового набора\n",
        "test_predictions = best_model.predict_proba(X_test_scaled)[:, 1]\n"
      ],
      "metadata": {
        "colab": {
          "base_uri": "https://localhost:8080/"
        },
        "id": "lwswusDUKyu6",
        "outputId": "7c228dff-8754-407a-92ae-7f9ed7a99620"
      },
      "execution_count": null,
      "outputs": [
        {
          "output_type": "stream",
          "name": "stderr",
          "text": [
            "/usr/local/lib/python3.10/dist-packages/sklearn/base.py:493: UserWarning: X does not have valid feature names, but RandomForestClassifier was fitted with feature names\n",
            "  warnings.warn(\n"
          ]
        }
      ]
    },
    {
      "cell_type": "code",
      "source": [
        "# Создание файла для отправки\n",
        "submission = pd.DataFrame({\n",
        "    'client_id': test['client_id'],\n",
        "    'score': test_predictions\n",
        "})\n",
        "\n",
        "# Сохранение файла\n",
        "submission.to_csv('submission_file.csv', index=False)\n",
        "print(\"Результат сохранён в submission_file.csv\")\n"
      ],
      "metadata": {
        "colab": {
          "base_uri": "https://localhost:8080/"
        },
        "id": "4ZyEUtxRK1_J",
        "outputId": "f23b7822-1c07-4821-cded-ad58e549b726"
      },
      "execution_count": null,
      "outputs": [
        {
          "output_type": "stream",
          "name": "stdout",
          "text": [
            "Результат сохранён в submission_file.csv\n"
          ]
        }
      ]
    },
    {
      "cell_type": "code",
      "source": [
        "# Проверка первых строк файла\n",
        "print(submission.head())\n",
        "\n",
        "# Проверка на наличие пропусков\n",
        "print(submission.isnull().sum())\n"
      ],
      "metadata": {
        "colab": {
          "base_uri": "https://localhost:8080/"
        },
        "id": "9ZT9OeS7K4WW",
        "outputId": "b9f878e6-b63d-4c93-a2a4-318c23172ba5"
      },
      "execution_count": null,
      "outputs": [
        {
          "output_type": "stream",
          "name": "stdout",
          "text": [
            "   client_id     score\n",
            "0          2  0.424493\n",
            "1          4  0.412177\n",
            "2          9  0.415743\n",
            "3         12  0.420743\n",
            "4         14  0.424493\n",
            "client_id    0\n",
            "score        0\n",
            "dtype: int64\n"
          ]
        }
      ]
    }
  ]
}